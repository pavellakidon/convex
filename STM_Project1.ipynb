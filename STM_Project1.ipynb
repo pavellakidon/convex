{
 "cells": [
  {
   "cell_type": "markdown",
   "metadata": {
    "slideshow": {
     "slide_type": "slide"
    }
   },
   "source": [
    "# Support Tensor Machine"
   ]
  },
  {
   "cell_type": "code",
   "execution_count": 1,
   "metadata": {
    "slideshow": {
     "slide_type": "slide"
    }
   },
   "outputs": [],
   "source": [
    "import cvxpy\n",
    "import numpy as np"
   ]
  },
  {
   "cell_type": "markdown",
   "metadata": {
    "slideshow": {
     "slide_type": "slide"
    }
   },
   "source": [
    "## Motivation"
   ]
  },
  {
   "cell_type": "markdown",
   "metadata": {
    "slideshow": {
     "slide_type": "slide"
    }
   },
   "source": [
    "**Support Vector Machine** (SVM) is a well-known supervised learning model introduced by Vapnik in\n",
    "1995 for solving two-class pattern recognition problem. \n",
    "\n",
    "SVM is used in text categorization, image classification, spam filters and also in many other classification problems."
   ]
  },
  {
   "cell_type": "markdown",
   "metadata": {},
   "source": [
    "## Recap: SVM"
   ]
  },
  {
   "cell_type": "markdown",
   "metadata": {},
   "source": [
    "<span style=\"color:red\">(здесь нужно сказать, что SVM был у нас на лекциях, поэтому мы просто напомним как ставится задача оптимизации и пойдем дальше)</span>"
   ]
  },
  {
   "cell_type": "markdown",
   "metadata": {},
   "source": [
    "Before we start, let's recall how SVM looks like\n",
    "\n",
    "$$\n",
    "\\begin{align}\n",
    "\\min_{u, b, \\xi}&\\;\\; \\frac{1}{2} \\|u\\|_2^2 + C \\mathbf{1}^\\top \\xi\\\\\n",
    "s.t.\\;& y_i (u^\\top x_i + b) \\ge 1-\\xi_i,\\\\\n",
    "    &\\xi \\succeq 0\n",
    "\\end{align}\n",
    "$$\n",
    "We can solve this using CVXPY"
   ]
  },
  {
   "cell_type": "code",
   "execution_count": 2,
   "metadata": {},
   "outputs": [],
   "source": [
    "def svm_cvx(x, y, c, beta=1.):\n",
    "    # weights for optimization\n",
    "    w = cvxpy.Variable((x.shape[1], ))\n",
    "    # xi for each element in x\n",
    "    eps = cvxpy.Variable((x.shape[0], ), nonneg=True)\n",
    "    # bias\n",
    "    b = cvxpy.Variable()\n",
    "    if w.is_scalar():  # a corner case, when vector of length 1 is treated as scalar\n",
    "        wrt = cvxpy.multiply(y, (x * w)[:, 0] + b) >= (1-eps)\n",
    "    else:\n",
    "        wrt = cvxpy.multiply(y, x @ w + b) >= (1-eps)\n",
    "    # and finally an objective with constraints\n",
    "    problem = cvxpy.Problem(\n",
    "        cvxpy.Minimize(0.5 * beta * cvxpy.norm(w) ** 2 + c * cvxpy.sum(eps)), \n",
    "        [wrt]\n",
    "    )\n",
    "    problem.solve()\n",
    "    # we only have to know w, b to make predictions\n",
    "    return w.value, b.value\n",
    "\n",
    "def predict(x, w, b):\n",
    "    return np.sign(x @ w + b)"
   ]
  },
  {
   "cell_type": "markdown",
   "metadata": {},
   "source": [
    "### Synthetic dataset\n"
   ]
  },
  {
   "cell_type": "code",
   "execution_count": 3,
   "metadata": {},
   "outputs": [
    {
     "data": {
      "text/plain": [
       "<matplotlib.collections.PathCollection at 0x1187ac3c8>"
      ]
     },
     "execution_count": 3,
     "metadata": {},
     "output_type": "execute_result"
    },
    {
     "data": {
      "image/png": "[encoded data removed]",
      "text/plain": [
       "<Figure size 432x288 with 1 Axes>"
      ]
     },
     "metadata": {
      "needs_background": "light"
     },
     "output_type": "display_data"
    }
   ],
   "source": [
    "x1 = np.random.normal(2, 1, (40, 2))\n",
    "x2 = np.random.normal(-2, 1, (40, 2))\n",
    "plt.scatter(x1[:, 0], x1[:, 1], color='blue')\n",
    "plt.scatter(x2[:, 0], x2[:, 1], color='green')"
   ]
  },
  {
   "cell_type": "markdown",
   "metadata": {},
   "source": [
    "Train SVM using CVXPY"
   ]
  },
  {
   "cell_type": "code",
   "execution_count": 4,
   "metadata": {},
   "outputs": [],
   "source": [
    "w, b = svm_cvx(\n",
    "    # data\n",
    "    np.concatenate([x1, x2]), \n",
    "    # targets\n",
    "    np.concatenate([np.ones(x1.shape[0]), -np.ones(x1.shape[0])]), \n",
    "    # iterations\n",
    "    10\n",
    ")"
   ]
  },
  {
   "cell_type": "markdown",
   "metadata": {},
   "source": [
    "What are the estimates?"
   ]
  },
  {
   "cell_type": "code",
   "execution_count": 5,
   "metadata": {},
   "outputs": [
    {
     "data": {
      "text/plain": [
       "(array([2.2099394 , 3.82191392]), array(-1.69064593))"
      ]
     },
     "execution_count": 5,
     "metadata": {},
     "output_type": "execute_result"
    }
   ],
   "source": [
    "w, b"
   ]
  },
  {
   "cell_type": "markdown",
   "metadata": {},
   "source": [
    "Let's now plot the solution border"
   ]
  },
  {
   "cell_type": "code",
   "execution_count": 6,
   "metadata": {},
   "outputs": [
    {
     "data": {
      "text/plain": [
       "[<matplotlib.lines.Line2D at 0x1188ac710>]"
      ]
     },
     "execution_count": 6,
     "metadata": {},
     "output_type": "execute_result"
    },
    {
     "data": {
      "image/png": "[encoded data removed]",
      "text/plain": [
       "<Figure size 432x288 with 1 Axes>"
      ]
     },
     "metadata": {
      "needs_background": "light"
     },
     "output_type": "display_data"
    }
   ],
   "source": [
    "plt.scatter(x1[:, 0], x1[:, 1], color='blue')\n",
    "plt.scatter(x2[:, 0], x2[:, 1], color='green')\n",
    "x = np.arange(-6, 4)\n",
    "y = -(w[0] * x + b) / w[1]\n",
    "plt.plot(x, y)"
   ]
  },
  {
   "cell_type": "markdown",
   "metadata": {},
   "source": [
    "... and check all is good with predictions"
   ]
  },
  {
   "cell_type": "code",
   "execution_count": 7,
   "metadata": {},
   "outputs": [
    {
     "data": {
      "text/plain": [
       "array([1., 1., 1., 1., 1., 1., 1., 1., 1., 1., 1., 1., 1., 1., 1., 1., 1.,\n",
       "       1., 1., 1., 1., 1., 1., 1., 1., 1., 1., 1., 1., 1., 1., 1., 1., 1.,\n",
       "       1., 1., 1., 1., 1., 1.])"
      ]
     },
     "execution_count": 7,
     "metadata": {},
     "output_type": "execute_result"
    }
   ],
   "source": [
    "predict(x1, w, b)"
   ]
  },
  {
   "cell_type": "code",
   "execution_count": 8,
   "metadata": {},
   "outputs": [
    {
     "data": {
      "text/plain": [
       "array([-1., -1., -1., -1., -1., -1., -1., -1., -1., -1., -1., -1., -1.,\n",
       "       -1., -1., -1., -1., -1., -1., -1., -1., -1., -1., -1., -1., -1.,\n",
       "       -1., -1., -1., -1., -1., -1., -1., -1., -1., -1., -1., -1., -1.,\n",
       "       -1.])"
      ]
     },
     "execution_count": 8,
     "metadata": {},
     "output_type": "execute_result"
    }
   ],
   "source": [
    "predict(x2, w, b)"
   ]
  },
  {
   "cell_type": "markdown",
   "metadata": {},
   "source": [
    "<span style=\"color:red\">(здесь нужно сказать, что мы(Максим) написали SVM не просто так, а он нам понадобится еще в дальнейшем)</span>"
   ]
  },
  {
   "cell_type": "markdown",
   "metadata": {},
   "source": [
    "## Support Tensor Machine"
   ]
  },
  {
   "cell_type": "markdown",
   "metadata": {},
   "source": [
    "In SVM model each data point is a $n$-dimentional vector.\n",
    "\n",
    "In supervised learning settings with many input features, overfitting is usually a potential problem\n",
    "unless there is ample training data. And it is well known that for unregularized\n",
    "discriminative models fit via training-error minimization, sample complexity (i.e., the number of\n",
    "training examples needed to overfit) grows about linearly in the number of\n",
    "parameters, which grows linearly in this model in the number of input features.\n",
    "\n",
    "So, these reasons lead us to consider new representations and corresponding learning algorithms with less\n",
    "number of parameters."
   ]
  },
  {
   "cell_type": "markdown",
   "metadata": {},
   "source": [
    "A linear classifier in $\\mathbb{R}^n$ can be represented as $a^\\top x + b$ in which there are $n + 1 \\ (\\approx n_1 \\times n_2 + 1)$\n",
    "parameters $(b, a_i,\\ i = 1, \\dots , n)$. \n",
    "\n",
    "Similarly, a linear classifier in the $\\mathbb{R}^{n_1} \\otimes \\mathbb{R}^{n_2}$ tensor space can be represented as $u^\\top X v + b$ where $u \\in \\mathbb{R}^{n_1}$ and $v \\in \\mathbb{R}^{n_2}$. Thus, there are only $n_1 +n_2 + 1$ parameters."
   ]
  },
  {
   "cell_type": "markdown",
   "metadata": {},
   "source": [
    "## Support Tensor Machine"
   ]
  },
  {
   "cell_type": "markdown",
   "metadata": {},
   "source": [
    "In **Support Tensor Machine** (STM) we convert vector $x \\in \\mathbb{R}^n$ in second order tensor (or matrix) $X \\in \\mathbb{R}^{n_1} \\otimes \\mathbb{R}^{n_2}$ (we consider two dimentional case), where $n_1 \\times n_2 \\approx n$.\n",
    "\n",
    "### The Problem\n",
    "\n",
    "Given a set of training samples $\\{X_i, y_i\\}$, $i = 1, \\dots , m$, where $X_i$ is the data point in order-$2$ tensor space, $X_i \\in \\mathbb{R}^{n_1} \\otimes \\mathbb{R}^{n_2}$ and $y_i \\in \\{−1, 1\\}$ is the label associated with $X_i$. Find a tensor classifier $f(X) = u^\\top X v + b$ such that the two classes can be separated with maximum margin."
   ]
  },
  {
   "cell_type": "markdown",
   "metadata": {},
   "source": [
    "This idea was presented by [Deng Cai et al, 2006](https://www.ideals.illinois.edu/bitstream/handle/2142/11193/Support%20Tensor%20Machines%20for%20Text%20Categorization.pdf?sequence=2). \n",
    "\n",
    "And the idea of tensorization of algorithms was also used in Principal Component Analysis ([Deng Cai et al, 2006](https://www.ideals.illinois.edu/bitstream/handle/2142/11195/Learning%20with%20Tensor%20Representation.pdf?sequence=2)), Linear Discriminant Analysis ([Xiaofei He et al, 2005](http://www.cad.zju.edu.cn/home/dengcai/Publication/Conference/2005_NIPS_TSA.pdf)), and Locality Preserving Projection ([Jieping Ye et al, 2004](https://papers.nips.cc/paper/2547-two-dimensional-linear-discriminant-analysis.pdf))"
   ]
  },
  {
   "cell_type": "markdown",
   "metadata": {},
   "source": [
    "## The Algorithm\n",
    "\n",
    "**Support Tensor Machine** does not differ too much from SVM. It just adds an iterative method to fund a solution in a tensor space\n",
    "\n",
    "**Step 0**\n",
    "initialize $b=0$, $u=\\mathbf1$, $v=\\mathbf1$\n",
    "\n",
    "**Step % 2 == 0**\n",
    "$$\n",
    "\\begin{align}\n",
    "\\beta_1 &= \\|v\\|_2^2\\\\\n",
    "\\tilde{x} &= Xv\\\\\n",
    "\\min_{u, b, \\xi}&\\;\\; \\frac{1}{2} \\beta_1\\|u\\|_2^2 + C \\mathbf{1}^\\top \\xi\\\\\n",
    "s.t.\\;& y_i (u^\\top \\tilde{x}_i + b) \\ge 1-\\xi_i,\\\\\n",
    "    &\\xi \\succeq 0\n",
    "\\end{align}\n",
    "$$\n",
    "save $b$, $u$ for next iterations\n",
    "\n",
    "**Step % 2 == 1**\n",
    "$$\n",
    "\\begin{align}\n",
    "\\beta &= \\|u\\|_2^2\\\\\n",
    "\\tilde{x} &= u^\\top X\\\\\n",
    "\\min_{v, b, \\xi}&\\;\\; \\frac{1}{2} \\beta_2\\|v\\|_2^2 + C \\mathbf{1}^\\top \\xi\\\\\n",
    "s.t.\\;& y_i (v^\\top \\tilde{x}_i + b) \\ge 1-\\xi_i,\\\\\n",
    "    &\\xi \\succeq 0\n",
    "\\end{align}\n",
    "$$\n",
    "save $b$, $v$ for next iterations\n",
    "\n",
    "\n",
    "**Iteratively computing $u$ and $v$ until they tend to converge.**"
   ]
  },
  {
   "cell_type": "code",
   "execution_count": 43,
   "metadata": {},
   "outputs": [],
   "source": [
    "def stm_cvx(X, y, c, numiter=10, tolerance=1e-4):\n",
    "    u, v, b = np.ones(X.shape[-2]), np.ones(X.shape[-1]), 1\n",
    "    uo, vo = u, v\n",
    "    for i in range(numiter*2):\n",
    "        if i % 2 == 0:\n",
    "            x = X @ v\n",
    "            beta = np.linalg.norm(v)\n",
    "            u, b = svm_cvx(x, y, c, beta)\n",
    "        else:\n",
    "            x = X.transpose(0, 2, 1) @ u\n",
    "            beta = np.linalg.norm(u)\n",
    "            v, b = svm_cvx(x, y, c, beta)\n",
    "        if i > 0 and i % 2:\n",
    "            if ( # check u\n",
    "                (np.linalg.norm(uo-u)/np.linalg.norm(uo)) < tolerance \n",
    "                and\n",
    "                 # check v\n",
    "                (np.linalg.norm(vo-v)/np.linalg.norm(vo)) < tolerance\n",
    "               ):\n",
    "                break\n",
    "            else:\n",
    "                uo, vo = u, v\n",
    "    return u, v, b\n",
    "\n",
    "def predict_stm(X, u, v, b):\n",
    "    return np.sign((X.transpose(0, 2, 1) @ u) @ v + b)"
   ]
  },
  {
   "cell_type": "markdown",
   "metadata": {},
   "source": [
    "Test STM on the same dataset, we should get the same good result"
   ]
  },
  {
   "cell_type": "code",
   "execution_count": 10,
   "metadata": {},
   "outputs": [
    {
     "data": {
      "text/plain": [
       "(80, 2, 1)"
      ]
     },
     "execution_count": 10,
     "metadata": {},
     "output_type": "execute_result"
    }
   ],
   "source": [
    "np.concatenate([x1, x2])[..., None].shape"
   ]
  },
  {
   "cell_type": "code",
   "execution_count": 11,
   "metadata": {},
   "outputs": [],
   "source": [
    "u, v, b = stm_cvx(\n",
    "    np.concatenate([x1, x2])[..., None], \n",
    "    np.concatenate([np.ones(x1.shape[0]), -np.ones(x1.shape[0])]), \n",
    "    10)"
   ]
  },
  {
   "cell_type": "markdown",
   "metadata": {},
   "source": [
    "Looks nice"
   ]
  },
  {
   "cell_type": "code",
   "execution_count": 12,
   "metadata": {},
   "outputs": [
    {
     "data": {
      "text/plain": [
       "array([ 1.,  1.,  1.,  1.,  1.,  1.,  1.,  1.,  1.,  1.,  1.,  1.,  1.,\n",
       "        1.,  1.,  1.,  1.,  1.,  1.,  1.,  1.,  1.,  1.,  1.,  1.,  1.,\n",
       "        1.,  1.,  1.,  1.,  1.,  1.,  1.,  1.,  1.,  1.,  1.,  1.,  1.,\n",
       "        1., -1., -1., -1., -1., -1., -1., -1., -1., -1., -1., -1., -1.,\n",
       "       -1., -1., -1., -1., -1., -1., -1., -1., -1., -1., -1., -1., -1.,\n",
       "       -1., -1., -1., -1., -1., -1., -1., -1., -1., -1., -1., -1., -1.,\n",
       "       -1., -1.])"
      ]
     },
     "execution_count": 12,
     "metadata": {},
     "output_type": "execute_result"
    }
   ],
   "source": [
    "predict_stm(np.concatenate([x1, x2])[..., None], u, v, b)"
   ]
  },
  {
   "cell_type": "markdown",
   "metadata": {},
   "source": [
    "## Larger dataset for STM"
   ]
  },
  {
   "cell_type": "markdown",
   "metadata": {},
   "source": [
    "Now we apply STM model for text categorization.\n",
    "\n",
    "Each document can be presented as a vector and each word in the document corresponds to a dimension.\n",
    "\n",
    "We use term frequency–inverse document frequency statistic to vectorize documents."
   ]
  },
  {
   "cell_type": "code",
   "execution_count": 46,
   "metadata": {},
   "outputs": [],
   "source": [
    "from sklearn.datasets import fetch_20newsgroups\n",
    "from sklearn.feature_extraction.text import TfidfVectorizer\n",
    "cats = ['alt.atheism', 'sci.space']\n",
    "newsgroups_train = fetch_20newsgroups(subset='train', categories=cats)\n",
    "newsgroups_test = fetch_20newsgroups(subset='test', categories=cats)\n",
    "vectorizer = TfidfVectorizer()\n",
    "vectors = vectorizer.fit_transform(newsgroups_train.data)\n",
    "vectors_test = vectorizer.transform(newsgroups_test.data)"
   ]
  },
  {
   "cell_type": "markdown",
   "metadata": {},
   "source": [
    "First, we try SVM"
   ]
  },
  {
   "cell_type": "code",
   "execution_count": 30,
   "metadata": {},
   "outputs": [
    {
     "data": {
      "text/plain": [
       "SVC(C=1.0, cache_size=200, class_weight=None, coef0=0.0,\n",
       "  decision_function_shape='ovr', degree=3, gamma='auto', kernel='linear',\n",
       "  max_iter=-1, probability=False, random_state=None, shrinking=True,\n",
       "  tol=0.001, verbose=False)"
      ]
     },
     "execution_count": 30,
     "metadata": {},
     "output_type": "execute_result"
    }
   ],
   "source": [
    "from sklearn.svm import SVC\n",
    "from sklearn import metrics\n",
    "clf = SVC(gamma='auto', kernel='linear')\n",
    "clf.fit(vectors, newsgroups_train.target)"
   ]
  },
  {
   "cell_type": "code",
   "execution_count": 31,
   "metadata": {},
   "outputs": [
    {
     "data": {
      "text/plain": [
       "0.9758050833078828"
      ]
     },
     "execution_count": 31,
     "metadata": {},
     "output_type": "execute_result"
    }
   ],
   "source": [
    "metrics.f1_score(newsgroups_test.target, clf.predict(vectors_test), average='macro')"
   ]
  },
  {
   "cell_type": "markdown",
   "metadata": {},
   "source": [
    "### Data preparation\n",
    "We need to prepare incoming data and pack it into tensor format. In here we sort features by their variance. Varying features go first, constant last"
   ]
  },
  {
   "cell_type": "code",
   "execution_count": 48,
   "metadata": {},
   "outputs": [
    {
     "data": {
      "text/plain": [
       "array([[0, 1],\n",
       "       [2, 3],\n",
       "       [4, 5],\n",
       "       [6, 7],\n",
       "       [8, 9]])"
      ]
     },
     "execution_count": 48,
     "metadata": {},
     "output_type": "execute_result"
    }
   ],
   "source": [
    "np.arange(10).reshape(5, 2)"
   ]
  },
  {
   "cell_type": "code",
   "execution_count": 71,
   "metadata": {},
   "outputs": [],
   "source": [
    "from sklearn.base import TransformerMixin\n",
    "import scipy.sparse\n",
    "class Tensorize(TransformerMixin):\n",
    "    \"\"\"\n",
    "    implements sorting approach to tensorization\n",
    "    \"\"\"\n",
    "    def __init__(self, k, m=None):\n",
    "        self.k = k\n",
    "        self.m = m\n",
    "        self.order = None\n",
    "\n",
    "    def fit(self, x, y=None):\n",
    "        if self.m is None:\n",
    "            self.m = x.shape[1] // self.k + bool(x.shape[1] % self.k)\n",
    "        assert x.shape[1] <= self.k * self.m\n",
    "        if scipy.sparse.issparse(x):\n",
    "            x = x.toarray()\n",
    "        agg = np.var(x, 0)\n",
    "        self.order = np.argsort(agg)[::-1]\n",
    "        return self\n",
    "\n",
    "    def transform(self, x, y=None):\n",
    "        xh = np.zeros((x.shape[0], self.k*self.m))\n",
    "        if scipy.sparse.issparse(x):\n",
    "            x = x.toarray()\n",
    "        xh[:, :x.shape[1]] = x[:, self.order]\n",
    "        return xh.reshape(x.shape[0], self.k, self.m)"
   ]
  },
  {
   "cell_type": "markdown",
   "metadata": {},
   "source": [
    "What is the size of incoming data?"
   ]
  },
  {
   "cell_type": "code",
   "execution_count": 72,
   "metadata": {},
   "outputs": [
    {
     "data": {
      "text/plain": [
       "(1073, 22464)"
      ]
     },
     "execution_count": 72,
     "metadata": {},
     "output_type": "execute_result"
    }
   ],
   "source": [
    "vectors.shape"
   ]
  },
  {
   "cell_type": "markdown",
   "metadata": {},
   "source": [
    "Look at the variance of unsorted data, it is quite unstructured"
   ]
  },
  {
   "cell_type": "code",
   "execution_count": 73,
   "metadata": {},
   "outputs": [
    {
     "data": {
      "text/plain": [
       "[<matplotlib.lines.Line2D at 0x11b7e0630>]"
      ]
     },
     "execution_count": 73,
     "metadata": {},
     "output_type": "execute_result"
    },
    {
     "data": {
      "image/png": "[encoded data removed]",
      "text/plain": [
       "<Figure size 432x288 with 1 Axes>"
      ]
     },
     "metadata": {
      "needs_background": "light"
     },
     "output_type": "display_data"
    }
   ],
   "source": [
    "plt.plot(scipy.var(vectors.toarray(), 0))"
   ]
  },
  {
   "cell_type": "markdown",
   "metadata": {},
   "source": [
    "Now we prepare tensor and pack groups of 10. Most varying features are first, less varying next. Range reshaping will illustrate the order"
   ]
  },
  {
   "cell_type": "code",
   "execution_count": 82,
   "metadata": {},
   "outputs": [
    {
     "data": {
      "text/plain": [
       "array([[ 0,  1,  2,  3],\n",
       "       [ 4,  5,  6,  7],\n",
       "       [ 8,  9, 10, 11]])"
      ]
     },
     "execution_count": 82,
     "metadata": {},
     "output_type": "execute_result"
    }
   ],
   "source": [
    "np.arange(12).reshape(3, -1)"
   ]
  },
  {
   "cell_type": "code",
   "execution_count": 84,
   "metadata": {},
   "outputs": [],
   "source": [
    "tensorize = Tensorize(100)\n",
    "tens = tensorize.fit_transform(vectors)\n",
    "tens_test = tensorize.transform(vectors_test)"
   ]
  },
  {
   "cell_type": "code",
   "execution_count": 85,
   "metadata": {},
   "outputs": [
    {
     "data": {
      "text/plain": [
       "(100, 225)"
      ]
     },
     "execution_count": 85,
     "metadata": {},
     "output_type": "execute_result"
    }
   ],
   "source": [
    "tensorize.k, tensorize.m"
   ]
  },
  {
   "cell_type": "code",
   "execution_count": 86,
   "metadata": {},
   "outputs": [
    {
     "data": {
      "text/plain": [
       "[<matplotlib.lines.Line2D at 0x11a05f240>]"
      ]
     },
     "execution_count": 86,
     "metadata": {},
     "output_type": "execute_result"
    },
    {
     "data": {
      "image/png": "[encoded data removed]",
      "text/plain": [
       "<Figure size 432x288 with 1 Axes>"
      ]
     },
     "metadata": {
      "needs_background": "light"
     },
     "output_type": "display_data"
    }
   ],
   "source": [
    "plt.plot(scipy.var(vectors.toarray(), 0)[tensorize.order])"
   ]
  },
  {
   "cell_type": "code",
   "execution_count": 87,
   "metadata": {},
   "outputs": [],
   "source": [
    "from sklearn.base import ClassifierMixin\n",
    "class STM(ClassifierMixin):\n",
    "    def __init__(self, numiter=10, c=1, tol=1e-4):\n",
    "        self.u = None\n",
    "        self.v = None\n",
    "        self.b = None\n",
    "        self.numiter = numiter\n",
    "        self.c = c\n",
    "        self.tol = tol\n",
    "\n",
    "    def fit(self, X, y):\n",
    "        assert np.allclose(np.unique(y), np.arange(2))\n",
    "        assert len(X.shape) == 3\n",
    "        y = y.copy()\n",
    "        y[y==0] = -1\n",
    "        self.u, self.v, self.b = stm_cvx(X, y, self.c, self.numiter, tolerance=self.tol)\n",
    "        return self\n",
    "    \n",
    "    def predict(self, X):\n",
    "        y = predict_stm(X, self.u, self.v, self.b)\n",
    "        y[y==-1] = 0\n",
    "        return y\n"
   ]
  },
  {
   "cell_type": "code",
   "execution_count": 88,
   "metadata": {},
   "outputs": [],
   "source": [
    "stm = STM(numiter=10)"
   ]
  },
  {
   "cell_type": "code",
   "execution_count": 89,
   "metadata": {},
   "outputs": [
    {
     "data": {
      "text/plain": [
       "(1073, 100, 225)"
      ]
     },
     "execution_count": 89,
     "metadata": {},
     "output_type": "execute_result"
    }
   ],
   "source": [
    "tens.shape"
   ]
  },
  {
   "cell_type": "code",
   "execution_count": 90,
   "metadata": {},
   "outputs": [
    {
     "data": {
      "text/plain": [
       "<__main__.STM at 0x109efbc18>"
      ]
     },
     "execution_count": 90,
     "metadata": {},
     "output_type": "execute_result"
    }
   ],
   "source": [
    "stm.fit(tens, newsgroups_train.target)"
   ]
  },
  {
   "cell_type": "markdown",
   "metadata": {},
   "source": [
    "Roughly the same as svm"
   ]
  },
  {
   "cell_type": "code",
   "execution_count": 91,
   "metadata": {},
   "outputs": [
    {
     "data": {
      "text/plain": [
       "0.9311864624887403"
      ]
     },
     "execution_count": 91,
     "metadata": {},
     "output_type": "execute_result"
    }
   ],
   "source": [
    "metrics.f1_score(newsgroups_test.target, stm.predict(tens_test), average='macro')"
   ]
  },
  {
   "cell_type": "markdown",
   "metadata": {},
   "source": [
    "Can we make better? We can try larger/smaller partition group"
   ]
  },
  {
   "cell_type": "code",
   "execution_count": 92,
   "metadata": {},
   "outputs": [],
   "source": [
    "# try tensorize with partition 10, 50, 100, 150, 200 and please plot partition vs f1 score for this grid"
   ]
  },
  {
   "cell_type": "code",
   "execution_count": null,
   "metadata": {},
   "outputs": [],
   "source": []
  },
  {
   "cell_type": "markdown",
   "metadata": {},
   "source": [
    "## Conclusion "
   ]
  },
  {
   "cell_type": "markdown",
   "metadata": {},
   "source": [
    "<span style=\"color:red\">(здесь нужно сказать, что STM работает почти также как SVM, но на маленьких датасетах STM работает лучше)</span>"
   ]
  },
  {
   "cell_type": "markdown",
   "metadata": {},
   "source": []
  }
 ],
 "metadata": {
  "celltoolbar": "Slideshow",
  "kernelspec": {
   "display_name": "Python 3",
   "language": "python",
   "name": "python3"
  },
  "language_info": {
   "codemirror_mode": {
    "name": "ipython",
    "version": 3
   },
   "file_extension": ".py",
   "mimetype": "text/x-python",
   "name": "python",
   "nbconvert_exporter": "python",
   "pygments_lexer": "ipython3",
   "version": "3.6.7"
  },
  "livereveal": {
   "theme": "sky",
   "transition": "zoom"
  }
 },
 "nbformat": 4,
 "nbformat_minor": 2
}
